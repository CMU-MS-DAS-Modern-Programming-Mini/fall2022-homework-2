{
  "nbformat": 4,
  "nbformat_minor": 0,
  "metadata": {
    "colab": {
      "provenance": [],
      "collapsed_sections": [],
      "authorship_tag": "ABX9TyOuVqRlJKlPGNrIjnU7r9F4",
      "include_colab_link": true
    },
    "kernelspec": {
      "name": "python3",
      "display_name": "Python 3"
    },
    "language_info": {
      "name": "python"
    }
  },
  "cells": [
    {
      "cell_type": "markdown",
      "metadata": {
        "id": "view-in-github",
        "colab_type": "text"
      },
      "source": [
        "<a href=\"https://colab.research.google.com/github/CMU-MS-DAS-Modern-Programming-Mini/fall2022-homework-2/blob/main/Modern_Programming_for_Data_Analytics_Homework_2.ipynb\" target=\"_parent\"><img src=\"https://colab.research.google.com/assets/colab-badge.svg\" alt=\"Open In Colab\"/></a>"
      ]
    },
    {
      "cell_type": "markdown",
      "source": [
        "# Modern Programming for Data Analytics\n",
        "Name:\n",
        "\n",
        "Andrew ID:"
      ],
      "metadata": {
        "id": "q32gveKttS1e"
      }
    },
    {
      "cell_type": "markdown",
      "source": [
        "# Exercise - GeoIP\n",
        "a. Install the package [ip2geotools](https://pypi.org/project/ip2geotools/) and [Faker](https://pypi.org/project/Faker/) using `pip`."
      ],
      "metadata": {
        "id": "rZpjQ6Yged6i"
      }
    },
    {
      "cell_type": "code",
      "execution_count": null,
      "metadata": {
        "id": "TvbZcWBAedAf"
      },
      "outputs": [],
      "source": [
        "# INSERT CODE IN THIS CELL"
      ]
    },
    {
      "cell_type": "markdown",
      "source": [
        "b. Use `Faker` to generate a list of 50 random [IPv4](https://faker.readthedocs.io/en/master/providers/faker.providers.internet.html#) addresses. Instructions to generate these random values can be found in the documentation.\n",
        "\n",
        "**Hint**\n",
        "* Set seed to `123`, i.e. \n",
        "```\n",
        "seed = 123\n",
        "Faker.seed( seed )\n",
        "```"
      ],
      "metadata": {
        "id": "pOdGLNPGl9tK"
      }
    },
    {
      "cell_type": "code",
      "source": [
        "# INSERT CODE IN THIS CELL"
      ],
      "metadata": {
        "id": "J_M23E-ul_y4"
      },
      "execution_count": null,
      "outputs": []
    },
    {
      "cell_type": "markdown",
      "source": [
        "c. Use `ip2geotools` to get information about the IPs. Use the method `get` from `DbIpCity`. Read the [documentation](https://pypi.org/project/ip2geotools/) on how to properly use the method. \n",
        "\n",
        "* The responses should be save to a list named `responses`.\n",
        "\n",
        "**Hint**\n",
        "* Set the `api_key` to `free`.\n",
        "* Export the response from the get method to a JSON block using the method `to_json`."
      ],
      "metadata": {
        "id": "WWQRe-Wjl_63"
      }
    },
    {
      "cell_type": "code",
      "source": [
        "# INSERT CODE IN THIS CELL"
      ],
      "metadata": {
        "id": "FAwdJ_TY4tzu"
      },
      "execution_count": null,
      "outputs": []
    },
    {
      "cell_type": "markdown",
      "source": [
        "d. Data cleanup. Some the responses have empty fields for `latitude` and `longitude`. Remove the entries from the list that are missing either of these values.\n",
        "\n",
        "**Hint**\n",
        "* If the latitude and longitude are missing, then the value of either of these is set to `None`."
      ],
      "metadata": {
        "id": "4kKAkjl6cRgL"
      }
    },
    {
      "cell_type": "code",
      "source": [
        "# INSERT CODE IN THIS CELL"
      ],
      "metadata": {
        "id": "I4iEjPgGcQv-"
      },
      "execution_count": null,
      "outputs": []
    },
    {
      "cell_type": "markdown",
      "source": [
        "d. Save variables to disk. Use [pickle](https://docs.python.org/3/library/pickle.html) to serialize the variable `responses`. Save the pickle file to the course folder in your Google Drive in a file named `ips.pkl`. "
      ],
      "metadata": {
        "id": "R7qQD2sDDwLc"
      }
    },
    {
      "cell_type": "code",
      "source": [
        "# INSERT CODE IN THIS CELL"
      ],
      "metadata": {
        "id": "HInSJoZODwVC"
      },
      "execution_count": null,
      "outputs": []
    },
    {
      "cell_type": "markdown",
      "source": [
        "This section will make a plot using the data above but will fail for missing data. So make sure the data is clean. Nothing to do here.\n",
        "\n",
        "**Hint**\n",
        "* If the plot is printed, then you are good to do. Keep in mind the shape of `responses`: it is a list of strings that needs to converted to JSON."
      ],
      "metadata": {
        "id": "zluEy8OW4xED"
      }
    },
    {
      "cell_type": "code",
      "source": [
        "# DO NOT MODIFY THIS BLOCK\n",
        "!pip install basemap\n",
        "!pip install basemap-data-hires\n",
        "\n",
        "import matplotlib\n",
        "import matplotlib.pyplot as plt\n",
        "import matplotlib.cm\n",
        "import math\n",
        "from mpl_toolkits.basemap import Basemap\n",
        "from matplotlib.patches import Polygon\n",
        "from matplotlib.collections import PatchCollection\n",
        "from matplotlib.colors import Normalize\n",
        "\n",
        "fig, ax = plt.subplots(figsize=(25,25))\n",
        "m = Basemap(resolution='i', # c, l, i, h, f or None\n",
        "\tprojection='merc',\n",
        "\tlat_1=45.,lat_2=55,lat_0=50,lon_0=-107,\n",
        "\t\tllcrnrlon=-180, llcrnrlat=-70, urcrnrlon=180, urcrnrlat=80)\n",
        "m.drawmapboundary(fill_color='#45bcec')\n",
        "m.fillcontinents(color='#f2f2f2',lake_color='#46bcec')\n",
        "\n",
        "scale = 0.1\n",
        "for response in responses:\n",
        "    response = json.loads(response)\n",
        "\n",
        "    if not response['longitude'] == None:\n",
        "      lon = response['longitude']\n",
        "      lat = response['latitude']\n",
        "      markerSize = scale*response['longitude']\n",
        "      x, y = m(lon,lat)\n",
        "      plt.plot(x, y, markersize = markerSize, color = 'red', marker = 'o')\n",
        "\n",
        "plt.show()"
      ],
      "metadata": {
        "id": "swnWVBCdHlP_"
      },
      "execution_count": null,
      "outputs": []
    },
    {
      "cell_type": "markdown",
      "source": [
        "## Exercise - Random sampling\n",
        "Numpy has a very robust library for sampling from random distributions. For a detailed list of discrete and continuous distributions that can be sampled from, see the [documentation](https://numpy.org/doc/stable/reference/random/index.html).\n",
        "\n",
        "For example, sampling from an exponential distribution can be achieved with"
      ],
      "metadata": {
        "id": "zBqatJorqEwN"
      }
    },
    {
      "cell_type": "code",
      "source": [
        "# DO NOT EDIT THIS CELL\n",
        "import numpy as np\n",
        "import matplotlib.pyplot as plt\n",
        "\n",
        "np.random.seed(123)\n",
        "\n",
        "#this line is sampling from an exponential distribution\n",
        "elambda = 1\n",
        "values = np.random.exponential(scale=elambda, size=10000)\n",
        "\n",
        "num_bins = 100\n",
        "fig, ax = plt.subplots()\n",
        "n, bins, patches = ax.hist(values, num_bins, density=True)\n",
        "ax.set_xlabel('Values')\n",
        "ax.set_ylabel('Probability density')\n",
        "ax.set_title(r'Random sampling')\n",
        "fig.tight_layout()\n",
        "\n",
        "plt.show()"
      ],
      "metadata": {
        "id": "2jr7TEcIqEEZ"
      },
      "execution_count": null,
      "outputs": []
    },
    {
      "cell_type": "markdown",
      "source": [
        "a. Inverse Transform Sampling. The inverse CDF method is a widely documented method for generating random samples.\n",
        "\n",
        "In this exercise you will use this method to sample from an exponential distribution with parameter `lambda=1`.\n",
        "\n",
        "Since this is a widely documented method, part of this exercise includes finding the method and implementing it yourself.\n",
        "\n",
        "* Set `lambda=1`.\n",
        "* Generate `10000` samples.\n",
        "* Save the samples to a variable named `samples`.\n",
        "\n",
        "**Hint**\n",
        "* This is not complicated, you should be able to write this in a couple of lines.\n",
        "* Feel free to use online resources like StackOverFlow."
      ],
      "metadata": {
        "id": "eHScyeSoZv-u"
      }
    },
    {
      "cell_type": "code",
      "source": [
        "# INSERT CODE IN THIS CELL\n",
        "import numpy as np\n",
        "import matplotlib.pyplot as plt\n",
        "\n",
        "np.random.seed(123)\n",
        "\n",
        "# <--- INSERT CODE HERE -->\n",
        "# <--- INSERT CODE HERE -->\n",
        "\n",
        "num_bins=100\n",
        "fig, ax = plt.subplots()\n",
        "n, bins, patches = ax.hist(samples, num_bins, density=True)\n",
        "ax.set_xlabel('Values')\n",
        "ax.set_ylabel('Probability density')\n",
        "ax.set_title(r'Random sampling')\n",
        "fig.tight_layout()\n",
        "plt.show()"
      ],
      "metadata": {
        "id": "n7xdhu-iZcI6"
      },
      "execution_count": null,
      "outputs": []
    },
    {
      "cell_type": "markdown",
      "source": [
        "# Exercise - SIR model\n",
        "The SIR model is a simple mathematical model of epidemics. The entities in this model stand for\n",
        "\n",
        "* (S)usceptible: inviduals that are not infected with the disease yet. However, they are not immune to it either, and so they can become infected with the disease in the future.\n",
        "* (I)nfected or infectious: individuals that are infected with the disease and can transmit the disease to susceptible people.\n",
        "* (R)ecovered: individuals who have recovered from the disease and are immune, so they can no longer be infected.\n",
        "\n",
        "In the most basic form, this model model can be represented as\n",
        "\n",
        "<img src=\"https://wikimedia.org/api/rest_v1/media/math/render/svg/c2a8fd2e93bfcf1092a44cfec7ef32c1a80a26f4\" />\n",
        "\n",
        "where \n",
        "\n",
        "* β is the average number of contacts per person per time\n",
        "* γ is the probability a contagious person becoming non-contagious\n",
        "* N is the population size (constant)\n",
        "\n",
        "Consider the numerical solution below using the parameters\n",
        "\n",
        "* `beta = 0.2`\n",
        "* `gamma = 0.07`\n",
        "* `N = 100`\n",
        "* `S0 = 99`\n",
        "* `I0 = 1`\n",
        "* `R0 = 0`\n",
        "\n",
        "\n",
        "\n"
      ],
      "metadata": {
        "id": "fDxGQ4CC9uNw"
      }
    },
    {
      "cell_type": "code",
      "source": [
        "# DO NOT MODIFY THIS BLOCK\n",
        "!pip install numpy\n",
        "!pip install scipy\n",
        "\n",
        "import numpy as np\n",
        "from scipy.integrate import odeint\n",
        "\n",
        "# Model\n",
        "def model(y, t, N, beta, gamma):\n",
        "    S, I, R = y\n",
        "    dSdt = -beta * S * I / N\n",
        "    dIdt = beta * S * I / N - gamma * I\n",
        "    dRdt = gamma * I\n",
        "    return dSdt, dIdt, dRdt\n",
        "\n",
        "# Parameters\n",
        "N = 100\n",
        "beta = 0.2\n",
        "gamma = 0.07\n",
        "S_0 = 99\n",
        "I_0 = 1\n",
        "R_0 = 0\n",
        "t = np.linspace(0, 360, 360)\n",
        "\n",
        "# Initial conditions vector\n",
        "y0 = (S_0,I_0,R_0)\n",
        "\n",
        "# Solve using ODE solver\n",
        "results = odeint(model, y0, t, args=(N,beta,gamma))"
      ],
      "metadata": {
        "id": "9JGRfnzwV4em"
      },
      "execution_count": null,
      "outputs": []
    },
    {
      "cell_type": "markdown",
      "source": [
        "## Pretty plot\n",
        "Use matplotlib and seaborn to make a figure. \n",
        "\n",
        "* The figure size should `25x25`\n",
        "* The figure should have one plot with three lineplots, `t vs S`, `t vs I` and `t vs R`.\n",
        "* Set title to `SIR model`.\n",
        "* Set x-label to `Time (t)`.\n",
        "* Set y-label to `Population size`.\n",
        "* Make sure each line plot uses different colors."
      ],
      "metadata": {
        "id": "Xiw2SXsYV4xL"
      }
    },
    {
      "cell_type": "code",
      "source": [
        "# INSERT CODE IN THIS CELL"
      ],
      "metadata": {
        "id": "wbFTN6yjV731"
      },
      "execution_count": null,
      "outputs": []
    },
    {
      "cell_type": "markdown",
      "source": [
        "## Save plot to disk\n",
        "Save the plot above to the course folder in your Google Drive to a file named `sir.png`. "
      ],
      "metadata": {
        "id": "kshoCNsWV8Zz"
      }
    },
    {
      "cell_type": "code",
      "source": [
        "# INSERT CODE IN THIS CELL"
      ],
      "metadata": {
        "id": "Fb7_lnNE55UY"
      },
      "execution_count": null,
      "outputs": []
    },
    {
      "cell_type": "markdown",
      "source": [
        "# Exercise - Matrix multiplication using `numpy` (updated edition).\n",
        "\n",
        "Design an implement a method called `can_be_multiplied`. \n",
        "\n",
        "* Use only the standard libary and `numpy`.\n",
        "* This method takes two Numpy arrays and returns True if these two matrices can be multiplied. False, otherwise.\n",
        "* Work on the assumption that if the input arguments are `a` and `b` (in that order), then the operation `a*b` will be checked by this method and not `b*a`.\n",
        "* If the input argument is not a Numpy array, then the method should return `None`.\n",
        "* **NEW**. If any of the arrays is a Numpy array, then check that the `dtype` of these arrays is numeric.\n",
        "* **NEW**. If any of the arrays is empty, then issue a warning message letting the user know which of the arrays is empty.\n",
        "* Write docstrings for this method.\n",
        "* Write at least 6 assertions to test your method.\n",
        "\n",
        "**Hint**\n",
        "* Test for empty matrices. If any of the matrices are empty, then this method should return `False`."
      ],
      "metadata": {
        "id": "y4Q5bs-4ujiw"
      }
    },
    {
      "cell_type": "code",
      "source": [
        "# INSERT CODE IN THIS CELL"
      ],
      "metadata": {
        "id": "aGKEp07vujpy"
      },
      "execution_count": null,
      "outputs": []
    }
  ]
}